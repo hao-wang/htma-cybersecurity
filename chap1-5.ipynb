{
 "cells": [
  {
   "cell_type": "code",
   "execution_count": 80,
   "metadata": {},
   "outputs": [],
   "source": [
    "import pandas as pd\n",
    "import matplotlib as mpl\n",
    "import matplotlib.pyplot as plt\n",
    "import seaborn as sns\n",
    "\n",
    "import numpy as np\n",
    "\n",
    "from scipy import stats"
   ]
  },
  {
   "cell_type": "markdown",
   "metadata": {},
   "source": [
    "## On measurement"
   ]
  },
  {
   "cell_type": "markdown",
   "metadata": {},
   "source": [
    "### Concept of measurement\n",
    "observations that *quantitatively* reduce the uncertainty."
   ]
  },
  {
   "cell_type": "markdown",
   "metadata": {},
   "source": [
    "### Object of measurement\n",
    "Security is vague. decompose it to observable quantities."
   ]
  },
  {
   "cell_type": "markdown",
   "metadata": {},
   "source": [
    "### Methods of measurement"
   ]
  },
  {
   "cell_type": "markdown",
   "metadata": {},
   "source": [
    "Small sample size doesn't mean small statistical significance. "
   ]
  },
  {
   "cell_type": "markdown",
   "metadata": {},
   "source": [
    "#### rule-of-five\n",
    "Given five observations, the possibility that the median of the population is inside the range (min, max) is as high as 93.75%. "
   ]
  },
  {
   "cell_type": "code",
   "execution_count": 10,
   "metadata": {},
   "outputs": [],
   "source": [
    "p_inside = (1 - 0.5**5 * 2)  # all the five larger (or lower) than the median of the population"
   ]
  },
  {
   "cell_type": "code",
   "execution_count": 11,
   "metadata": {},
   "outputs": [
    {
     "data": {
      "text/plain": [
       "0.9375"
      ]
     },
     "execution_count": 11,
     "metadata": {},
     "output_type": "execute_result"
    }
   ],
   "source": [
    "p_inside"
   ]
  },
  {
   "attachments": {},
   "cell_type": "markdown",
   "metadata": {},
   "source": [
    "## Replace risk matrix with quantities"
   ]
  },
  {
   "cell_type": "markdown",
   "metadata": {},
   "source": [
    "![risk-matrix.png](images/risk-matrix.png)"
   ]
  },
  {
   "cell_type": "markdown",
   "metadata": {},
   "source": [
    "It can be difficult to make a naively constructed risk matrix consistent, when we put numbers in, i.e., \"Medium\" cells could have loss larger than \"Critical\" ones."
   ]
  },
  {
   "cell_type": "code",
   "execution_count": 20,
   "metadata": {},
   "outputs": [],
   "source": [
    "data_file = \"data/OneforOne-Substitution-Model-30-April-2020-CS-example.xlsx\""
   ]
  },
  {
   "cell_type": "code",
   "execution_count": 41,
   "metadata": {},
   "outputs": [
    {
     "data": {
      "text/markdown": [
       "Introduction: The One-For-One Substitution Model shows how we can replace the basic heat map using purely quantitative methods.  Like the heat map, this approach relies entirely on the **subjective** estimates of likelihood and impact from experts.  Unlike the heat map, it uses mathematically unambiguous probabilistic expressions of likelihood and impact which can be used in simulations where risks can be properly \"added up\" to compute risks for a larger portfolio. The first tab requires user input. Simply describe the risk or event that is being considered in column B under \"Risk Name\". Then, estimate the probability that the event will happen over a 1 year period and a 90% confidence interval for the impact of the event, if it did occur. To view the results of the simulation, see the \"Loss Exceedance Curve\" tab. Make sure that calculation options are set to \"Automatic Except for Data Tables\" (Formulas>Calculation Options)."
      ],
      "text/plain": [
       "<IPython.core.display.Markdown object>"
      ]
     },
     "execution_count": 41,
     "metadata": {},
     "output_type": "execute_result"
    }
   ],
   "source": [
    "from IPython.display import Markdown as md\n",
    "intro = pd.read_excel(io=data_file, nrows=1, usecols=[4])\n",
    "intro = intro.iloc[0][0].replace('subjective', '**subjective**')\n",
    "md(intro)"
   ]
  },
  {
   "cell_type": "code",
   "execution_count": 49,
   "metadata": {},
   "outputs": [],
   "source": [
    "data = pd.read_excel(io=data_file, skiprows=8, nrows=4, usecols=[0, 1, 3, 4, 5, 6, 7])\n",
    "data['prob_accum'] = data['Probability of a Loss Over 1 Year'].cumsum()"
   ]
  },
  {
   "cell_type": "code",
   "execution_count": 50,
   "metadata": {
    "scrolled": true
   },
   "outputs": [
    {
     "data": {
      "text/html": [
       "<div>\n",
       "<style scoped>\n",
       "    .dataframe tbody tr th:only-of-type {\n",
       "        vertical-align: middle;\n",
       "    }\n",
       "\n",
       "    .dataframe tbody tr th {\n",
       "        vertical-align: top;\n",
       "    }\n",
       "\n",
       "    .dataframe thead th {\n",
       "        text-align: right;\n",
       "    }\n",
       "</style>\n",
       "<table border=\"1\" class=\"dataframe\">\n",
       "  <thead>\n",
       "    <tr style=\"text-align: right;\">\n",
       "      <th></th>\n",
       "      <th>Risk ID</th>\n",
       "      <th>Risk Name</th>\n",
       "      <th>Probability of a Loss Over 1 Year</th>\n",
       "      <th>Lower Bound</th>\n",
       "      <th>Upper Bound</th>\n",
       "      <th>Total Cost of Controls</th>\n",
       "      <th>Control Effectiveness</th>\n",
       "      <th>prob_accum</th>\n",
       "    </tr>\n",
       "  </thead>\n",
       "  <tbody>\n",
       "    <tr>\n",
       "      <th>0</th>\n",
       "      <td>1</td>\n",
       "      <td>Data Breach</td>\n",
       "      <td>0.40</td>\n",
       "      <td>500000</td>\n",
       "      <td>10000000</td>\n",
       "      <td>300000</td>\n",
       "      <td>0.35</td>\n",
       "      <td>0.40</td>\n",
       "    </tr>\n",
       "    <tr>\n",
       "      <th>1</th>\n",
       "      <td>2</td>\n",
       "      <td>Malware</td>\n",
       "      <td>0.15</td>\n",
       "      <td>2000000</td>\n",
       "      <td>5000000</td>\n",
       "      <td>500000</td>\n",
       "      <td>0.25</td>\n",
       "      <td>0.55</td>\n",
       "    </tr>\n",
       "    <tr>\n",
       "      <th>2</th>\n",
       "      <td>3</td>\n",
       "      <td>Lost Laptops</td>\n",
       "      <td>0.35</td>\n",
       "      <td>150000</td>\n",
       "      <td>300000</td>\n",
       "      <td>25000</td>\n",
       "      <td>0.50</td>\n",
       "      <td>0.90</td>\n",
       "    </tr>\n",
       "    <tr>\n",
       "      <th>3</th>\n",
       "      <td>4</td>\n",
       "      <td>Pennance Projects</td>\n",
       "      <td>0.10</td>\n",
       "      <td>200000</td>\n",
       "      <td>500000</td>\n",
       "      <td>10000</td>\n",
       "      <td>0.10</td>\n",
       "      <td>1.00</td>\n",
       "    </tr>\n",
       "  </tbody>\n",
       "</table>\n",
       "</div>"
      ],
      "text/plain": [
       "   Risk ID          Risk Name  Probability of a Loss Over 1 Year  Lower Bound  \\\n",
       "0        1        Data Breach                               0.40       500000   \n",
       "1        2            Malware                               0.15      2000000   \n",
       "2        3       Lost Laptops                               0.35       150000   \n",
       "3        4  Pennance Projects                               0.10       200000   \n",
       "\n",
       "   Upper Bound  Total Cost of Controls  Control Effectiveness  prob_accum  \n",
       "0     10000000                  300000                   0.35        0.40  \n",
       "1      5000000                  500000                   0.25        0.55  \n",
       "2       300000                   25000                   0.50        0.90  \n",
       "3       500000                   10000                   0.10        1.00  "
      ]
     },
     "execution_count": 50,
     "metadata": {},
     "output_type": "execute_result"
    }
   ],
   "source": [
    "data"
   ]
  },
  {
   "cell_type": "markdown",
   "metadata": {},
   "source": [
    "### Monte Carlo simulation"
   ]
  },
  {
   "cell_type": "code",
   "execution_count": 124,
   "metadata": {},
   "outputs": [],
   "source": [
    "def one_risk_simu(risk_loss):\n",
    "    \"\"\"\n",
    "    One simulation of a loss event - \n",
    "     1) generate the risk type with uniform distribution\n",
    "     2) generate loss assuming a log-normal distribution (stats.lognorm)\n",
    "    \"\"\"\n",
    "    rnd = np.random.rand()\n",
    "    exp_loss, res_loss = 0, 0\n",
    "    if rnd < risk_loss['Probability of a Loss Over 1 Year']:\n",
    "        std = (np.log(risk_loss['Upper Bound']) - \n",
    "               np.log(risk_loss['Lower Bound']))/3.29\n",
    "        mean = (np.log(risk_loss['Upper Bound']) +\n",
    "                np.log(risk_loss['Lower Bound']))/2.0\n",
    "        exp_loss = np.exp(stats.norm.rvs(mean, std))\n",
    "        res_loss = exp_loss * (1-risk_loss['Control Effectiveness'])\n",
    "    return exp_loss, res_loss"
   ]
  },
  {
   "cell_type": "code",
   "execution_count": 137,
   "metadata": {},
   "outputs": [
    {
     "ename": "ValueError",
     "evalue": "not enough values to unpack (expected 2, got 1)",
     "output_type": "error",
     "traceback": [
      "\u001b[0;31m---------------------------------------------------------------------------\u001b[0m",
      "\u001b[0;31mValueError\u001b[0m                                Traceback (most recent call last)",
      "\u001b[0;32m<ipython-input-137-29a063c50882>\u001b[0m in \u001b[0;36m<module>\u001b[0;34m\u001b[0m\n\u001b[0;32m----> 1\u001b[0;31m \u001b[0;32mfor\u001b[0m \u001b[0mi\u001b[0m\u001b[0;34m,\u001b[0m \u001b[0mj\u001b[0m \u001b[0;32min\u001b[0m \u001b[0mzip\u001b[0m\u001b[0;34m(\u001b[0m\u001b[0;34m[\u001b[0m\u001b[0mone_risk_simu\u001b[0m\u001b[0;34m(\u001b[0m\u001b[0mrl\u001b[0m\u001b[0;34m)\u001b[0m \u001b[0;32mfor\u001b[0m \u001b[0mir\u001b[0m\u001b[0;34m,\u001b[0m \u001b[0mrl\u001b[0m \u001b[0;32min\u001b[0m \u001b[0mdata\u001b[0m\u001b[0;34m.\u001b[0m\u001b[0miterrows\u001b[0m\u001b[0;34m(\u001b[0m\u001b[0;34m)\u001b[0m\u001b[0;34m]\u001b[0m\u001b[0;34m)\u001b[0m\u001b[0;34m:\u001b[0m\u001b[0;34m\u001b[0m\u001b[0;34m\u001b[0m\u001b[0m\n\u001b[0m\u001b[1;32m      2\u001b[0m     \u001b[0mprint\u001b[0m\u001b[0;34m(\u001b[0m\u001b[0mi\u001b[0m\u001b[0;34m,\u001b[0m \u001b[0mj\u001b[0m\u001b[0;34m)\u001b[0m\u001b[0;34m\u001b[0m\u001b[0;34m\u001b[0m\u001b[0m\n",
      "\u001b[0;31mValueError\u001b[0m: not enough values to unpack (expected 2, got 1)"
     ]
    }
   ],
   "source": [
    "for i, j in zip([one_risk_simu(rl) for ir, rl in data.iterrows()]):\n",
    "    print(i, j)"
   ]
  },
  {
   "cell_type": "code",
   "execution_count": null,
   "metadata": {},
   "outputs": [],
   "source": [
    "def one_simu_round(data):\n",
    "    ell, rll = [one_risk_simu(rl) for rl in data.iterrows()]\n",
    "    zip([one_risk_simu(rl) for ir, rl in data.iterrows()])"
   ]
  },
  {
   "cell_type": "code",
   "execution_count": 93,
   "metadata": {},
   "outputs": [],
   "source": [
    "def one_simu(data):\n",
    "    \"\"\"\n",
    "    One simulation of a loss event - \n",
    "     1) generate the risk type with uniform distribution\n",
    "     2) generate loss assuming a log-normal distribution (stats.lognorm)\n",
    "    \"\"\"\n",
    "    rnd = np.random.rand()\n",
    "    for idx, pa in enumerate(data['prob_accum']):\n",
    "        if rnd < pa:\n",
    "            risk_id = idx\n",
    "            break\n",
    "        \n",
    "    risk_loss = data.iloc[idx]\n",
    "    std = (np.log(risk_loss['Upper Bound']) - \n",
    "           np.log(risk_loss['Lower Bound']))/3.29\n",
    "    mean = (np.log(risk_loss['Upper Bound']) +\n",
    "            np.log(risk_loss['Lower Bound']))/2.0\n",
    "    exp_loss = np.exp(stats.norm.rvs(mean, std))\n",
    "    res_loss = exp_loss * (1-risk_loss['Control Effectiveness'])\n",
    "    return exp_loss, res_loss"
   ]
  },
  {
   "cell_type": "code",
   "execution_count": 117,
   "metadata": {},
   "outputs": [],
   "source": [
    "n_trial = 10000\n",
    "\n",
    "losses = [one_simu(data) for i in range(n_trial)]\n",
    "exp_losses = np.array([l[0] for l in losses])\n",
    "res_losses = np.array([l[1] for l in losses])"
   ]
  },
  {
   "cell_type": "code",
   "execution_count": 118,
   "metadata": {},
   "outputs": [
    {
     "data": {
      "text/plain": [
       "(array([9.525e+03, 3.710e+02, 7.300e+01, 1.800e+01, 7.000e+00, 3.000e+00,\n",
       "        1.000e+00, 1.000e+00, 0.000e+00, 1.000e+00]),\n",
       " array([   94887.94733742,  6599092.65758577, 13103297.36783411,\n",
       "        19607502.07808246, 26111706.7883308 , 32615911.49857915,\n",
       "        39120116.2088275 , 45624320.91907585, 52128525.62932419,\n",
       "        58632730.33957253, 65136935.04982088]),\n",
       " <BarContainer object of 10 artists>)"
      ]
     },
     "execution_count": 118,
     "metadata": {},
     "output_type": "execute_result"
    },
    {
     "data": {
      "image/png": "[encoded data removed]",
      "text/plain": [
       "<Figure size 432x288 with 1 Axes>"
      ]
     },
     "metadata": {
      "needs_background": "light"
     },
     "output_type": "display_data"
    }
   ],
   "source": [
    "plt.hist(exp_losses)"
   ]
  },
  {
   "cell_type": "code",
   "execution_count": 119,
   "metadata": {},
   "outputs": [
    {
     "data": {
      "image/png": "[encoded data removed]",
      "text/plain": [
       "<Figure size 720x432 with 1 Axes>"
      ]
     },
     "metadata": {
      "needs_background": "light"
     },
     "output_type": "display_data"
    }
   ],
   "source": [
    "fig, ax = plt.subplots(figsize=(10, 6))\n",
    "axes = sns.ecdfplot(exp_losses/1000., ax=ax, complementary=True)\n",
    "ax.set_xscale('log')\n",
    "ax.set_xlabel('Loss Exceeded (k dollars)')\n",
    "ax.grid(True)"
   ]
  },
  {
   "cell_type": "code",
   "execution_count": 100,
   "metadata": {},
   "outputs": [
    {
     "data": {
      "text/plain": [
       "Bbox([[158327.78145452103, 0.0], [22070385.345405705, 1.0]])"
      ]
     },
     "execution_count": 100,
     "metadata": {},
     "output_type": "execute_result"
    }
   ],
   "source": [
    "axes.dataLim"
   ]
  },
  {
   "cell_type": "code",
   "execution_count": null,
   "metadata": {},
   "outputs": [],
   "source": []
  }
 ],
 "metadata": {
  "kernelspec": {
   "display_name": "Python 3",
   "language": "python",
   "name": "python3"
  },
  "language_info": {
   "codemirror_mode": {
    "name": "ipython",
    "version": 3
   },
   "file_extension": ".py",
   "mimetype": "text/x-python",
   "name": "python",
   "nbconvert_exporter": "python",
   "pygments_lexer": "ipython3",
   "version": "3.8.0"
  },
  "toc": {
   "base_numbering": 1,
   "nav_menu": {},
   "number_sections": true,
   "sideBar": true,
   "skip_h1_title": false,
   "title_cell": "Table of Contents",
   "title_sidebar": "Contents",
   "toc_cell": false,
   "toc_position": {
    "height": "calc(100% - 180px)",
    "left": "10px",
    "top": "150px",
    "width": "211px"
   },
   "toc_section_display": true,
   "toc_window_display": true
  }
 },
 "nbformat": 4,
 "nbformat_minor": 4
}
