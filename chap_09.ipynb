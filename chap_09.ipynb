{
 "cells": [
  {
   "cell_type": "code",
   "execution_count": 1,
   "metadata": {},
   "outputs": [],
   "source": [
    "%matplotlib inline\n",
    "from ipywidgets import interactive, fixed\n",
    "import matplotlib.pyplot as plt\n",
    "import numpy as np\n",
    "import pandas as pd\n",
    "\n",
    "from ipywidgets import interact, interactive, fixed, interact_manual\n",
    "import ipywidgets as widgets"
   ]
  },
  {
   "cell_type": "code",
   "execution_count": 2,
   "metadata": {},
   "outputs": [],
   "source": [
    "from scipy import stats"
   ]
  },
  {
   "cell_type": "markdown",
   "metadata": {},
   "source": [
    "## Beta-distribution"
   ]
  },
  {
   "cell_type": "markdown",
   "metadata": {},
   "source": [
    "Beta-distribution \n",
    "$$ \\beta(x, a, b) = c x^{a-1}(1-x)^{b-1}, $$ where $c$ is the normalization factor,\n",
    "$$c = \\frac{\\Gamma(a+b)}{\\Gamma(a)\\Gamma(b)}.$$\n",
    "\n",
    "In Bayesian probability theory's terms, the beta-distribution and the binomial distributions are conjugate distribution; meaning if the prior takes the form of the beta-distribution, the likelihood the binomial, then the posterior distribution will be a beta-distribution too. \n",
    "\n",
    "Indeed, given a beta-distribution prior $$f(p)=\\beta(p; a_0, b_0)$$ and likelihood $$L(a, b|p)=\\text{binom}(a, b; p)=C_{a+b}^a p^a(1-p)^b,$$ multiply the two and we have a posterior of $p$, $$P(p)=d\\cdot p^{a+a_0-1}(1-p)^{b+b_0-1}=\\beta(a+a_0, b+b_0).$$ where $d$ is a normalization factor. \n",
    "\n",
    "This gives a simple update-rule, i.e., the probability of an event is given by $\\beta(x; a, b)$, where \n",
    "$$a \\leftarrow a_{obs} + a_{0},$$\n",
    "$$b \\leftarrow b_{obs} + b_{0}. $$"
   ]
  },
  {
   "cell_type": "code",
   "execution_count": 3,
   "metadata": {},
   "outputs": [],
   "source": [
    "def beta_pdf(a=1, b=1):\n",
    "    x = np.linspace(0, 1, 100)\n",
    "    y = stats.beta.pdf(x, a, b)\n",
    "    plt.figure(2)\n",
    "    plt.plot(x, y)\n",
    "    plt.ylim(0, max(y)+1)\n",
    "    plt.show()"
   ]
  },
  {
   "cell_type": "code",
   "execution_count": 4,
   "metadata": {
    "scrolled": false
   },
   "outputs": [
    {
     "data": {
      "application/vnd.jupyter.widget-view+json": {
       "model_id": "a958781a682c4476992fc264b605ab7e",
       "version_major": 2,
       "version_minor": 0
      },
      "text/plain": [
       "interactive(children=(IntSlider(value=1, description='a', max=5, min=1), IntSlider(value=1, description='b', m…"
      ]
     },
     "metadata": {},
     "output_type": "display_data"
    }
   ],
   "source": [
    "interactive_plot = interactive(beta_pdf, a=(1, 5), b=(1, 30))\n",
    "output = interactive_plot.children[-1]\n",
    "# output.layout.height = '350px'\n",
    "interactive_plot"
   ]
  },
  {
   "cell_type": "markdown",
   "metadata": {},
   "source": [
    "## Read data & Preprocess"
   ]
  },
  {
   "cell_type": "code",
   "execution_count": 5,
   "metadata": {},
   "outputs": [],
   "source": [
    "data_file = \"data/Chapter-9-Beta-Dist-Example-for-three-industries-1.xlsx\""
   ]
  },
  {
   "cell_type": "code",
   "execution_count": 6,
   "metadata": {},
   "outputs": [],
   "source": [
    "header = pd.read_excel(io=data_file, nrows=1, usecols=[0])"
   ]
  },
  {
   "cell_type": "code",
   "execution_count": 7,
   "metadata": {},
   "outputs": [
    {
     "data": {
      "text/markdown": [
       "This shows how the beta distribution could be used to compare breach frequencies based on a few breaches in an industry.  Data from 2014 to the end of 2015 is shown.  You can set **“a”** and **“b”** as shown in the book to reflect “hits” and “misses” (i.e., breaches and non-breaches per company per year) to see how the estimate of breach frequency will change with even a single new breach reported.  In rows 4 to 7 (in yellow) you can enter the start year of the breach data for an industry, the end year, the number of breaches in that period, and the number of organizations in the sample.  These assume the organizations are either randomly sampled from some industry or a complete census of the industry.  Data shown was based on a particular random sample and was accurate until the beginning of 2016."
      ],
      "text/plain": [
       "<IPython.core.display.Markdown object>"
      ]
     },
     "execution_count": 7,
     "metadata": {},
     "output_type": "execute_result"
    }
   ],
   "source": [
    "from IPython.display import Markdown as md\n",
    "md(\"%s\" % (header.iloc[0][0]\n",
    "           .replace(\"“alpha”\", \"**“a”**\")\n",
    "           .replace(\"“beta”\", \"**“b”**\")))"
   ]
  },
  {
   "cell_type": "code",
   "execution_count": 8,
   "metadata": {},
   "outputs": [],
   "source": [
    "data = pd.read_excel(io=data_file, nrows=4, skiprows=2, usecols=[0, 1, 2, 3], index_col=0)"
   ]
  },
  {
   "cell_type": "code",
   "execution_count": 9,
   "metadata": {},
   "outputs": [],
   "source": [
    "data = data.T"
   ]
  },
  {
   "cell_type": "code",
   "execution_count": 10,
   "metadata": {},
   "outputs": [],
   "source": [
    "data['duration'] = data['Data up until year'] - data['Data since year']"
   ]
  },
  {
   "cell_type": "code",
   "execution_count": 11,
   "metadata": {},
   "outputs": [
    {
     "data": {
      "text/html": [
       "<div>\n",
       "<style scoped>\n",
       "    .dataframe tbody tr th:only-of-type {\n",
       "        vertical-align: middle;\n",
       "    }\n",
       "\n",
       "    .dataframe tbody tr th {\n",
       "        vertical-align: top;\n",
       "    }\n",
       "\n",
       "    .dataframe thead th {\n",
       "        text-align: right;\n",
       "    }\n",
       "</style>\n",
       "<table border=\"1\" class=\"dataframe\">\n",
       "  <thead>\n",
       "    <tr style=\"text-align: right;\">\n",
       "      <th></th>\n",
       "      <th>Data since year</th>\n",
       "      <th>Data up until year</th>\n",
       "      <th>Breaches since then</th>\n",
       "      <th>Companies in Population</th>\n",
       "      <th>duration</th>\n",
       "    </tr>\n",
       "  </thead>\n",
       "  <tbody>\n",
       "    <tr>\n",
       "      <th>Healthcare</th>\n",
       "      <td>2014</td>\n",
       "      <td>2016</td>\n",
       "      <td>2</td>\n",
       "      <td>38</td>\n",
       "      <td>2</td>\n",
       "    </tr>\n",
       "    <tr>\n",
       "      <th>Retail</th>\n",
       "      <td>2014</td>\n",
       "      <td>2016</td>\n",
       "      <td>3</td>\n",
       "      <td>98</td>\n",
       "      <td>2</td>\n",
       "    </tr>\n",
       "    <tr>\n",
       "      <th>Finance</th>\n",
       "      <td>2014</td>\n",
       "      <td>2016</td>\n",
       "      <td>2</td>\n",
       "      <td>60</td>\n",
       "      <td>2</td>\n",
       "    </tr>\n",
       "  </tbody>\n",
       "</table>\n",
       "</div>"
      ],
      "text/plain": [
       "            Data since year  Data up until year  Breaches since then  \\\n",
       "Healthcare             2014                2016                    2   \n",
       "Retail                 2014                2016                    3   \n",
       "Finance                2014                2016                    2   \n",
       "\n",
       "            Companies in Population  duration  \n",
       "Healthcare                       38         2  \n",
       "Retail                           98         2  \n",
       "Finance                          60         2  "
      ]
     },
     "execution_count": 11,
     "metadata": {},
     "output_type": "execute_result"
    }
   ],
   "source": [
    "data"
   ]
  },
  {
   "cell_type": "markdown",
   "metadata": {},
   "source": [
    "## Healthcare as an example"
   ]
  },
  {
   "cell_type": "code",
   "execution_count": 12,
   "metadata": {},
   "outputs": [],
   "source": [
    "def beta_posterior_plot(prior_a=1, prior_b=1, hit=0, miss=0):\n",
    "    plt.figure(2)\n",
    "    x = np.linspace(0, 1, 100)\n",
    "\n",
    "    post_a = prior_a+hit\n",
    "    post_b = prior_b+miss\n",
    "\n",
    "    y = stats.beta.pdf(x, post_a, post_b)\n",
    "\n",
    "    mean = post_a/(post_a+post_b)  # occurrence rate\n",
    "    lower, upper = stats.beta.interval(0.90, post_a, post_b)\n",
    "    plt.plot(x, y)\n",
    "    plt.ylim(0, max(y)+1)\n",
    "    plt.title(\"(prior) a=%d, b=%d\\n (observed) hit=%d, miss=%d\\n\" % (prior_a, prior_b, hit, miss) +\\\n",
    "              \"Mean=%.4f\\n 90%% CI lower=%.2f%%, upper=%.2f%%\" % (mean, lower*100, upper*100) )\n",
    "    plt.show()"
   ]
  },
  {
   "cell_type": "code",
   "execution_count": 13,
   "metadata": {},
   "outputs": [],
   "source": [
    "hc = data.loc['Healthcare']"
   ]
  },
  {
   "cell_type": "code",
   "execution_count": 14,
   "metadata": {},
   "outputs": [
    {
     "data": {
      "text/plain": [
       "Data since year            2014\n",
       "Data up until year         2016\n",
       "Breaches since then           2\n",
       "Companies in Population      38\n",
       "duration                      2\n",
       "Name: Healthcare, dtype: int64"
      ]
     },
     "execution_count": 14,
     "metadata": {},
     "output_type": "execute_result"
    }
   ],
   "source": [
    "hc"
   ]
  },
  {
   "cell_type": "code",
   "execution_count": 15,
   "metadata": {},
   "outputs": [
    {
     "data": {
      "application/vnd.jupyter.widget-view+json": {
       "model_id": "eb3354f0928848cbaff66e0a78a0dc79",
       "version_major": 2,
       "version_minor": 0
      },
      "text/plain": [
       "interactive(children=(IntSlider(value=1, description='prior_a', max=3, min=-1), IntSlider(value=1, description…"
      ]
     },
     "metadata": {},
     "output_type": "display_data"
    }
   ],
   "source": [
    "hc_hit = hc['Breaches since then']\n",
    "hc_miss = hc['Companies in Population'] * hc['duration'] - hc_hit\n",
    "interactive_plot = interactive(beta_posterior_plot, a=(1, 5), b=(1, 30), \n",
    "                               hit=fixed(hc_hit), \n",
    "                               miss=fixed(hc_miss))\n",
    "output = interactive_plot.children[-1]\n",
    "output.layout.height = '350px'\n",
    "interactive_plot"
   ]
  },
  {
   "cell_type": "markdown",
   "metadata": {},
   "source": [
    "Note although we observed 2 breaches and 74 misses, the data breach probability is *not* 2/76=2.63% -- the observed counts are random variables, hence their ratio is a random variable. Applying the beta-distribution (and assuming a uniform prior), we know there is a non-negaligible (5%) possibility that the true probability reaches 8%. "
   ]
  },
  {
   "cell_type": "code",
   "execution_count": null,
   "metadata": {},
   "outputs": [],
   "source": []
  }
 ],
 "metadata": {
  "kernelspec": {
   "display_name": "Python 3",
   "language": "python",
   "name": "python3"
  },
  "language_info": {
   "codemirror_mode": {
    "name": "ipython",
    "version": 3
   },
   "file_extension": ".py",
   "mimetype": "text/x-python",
   "name": "python",
   "nbconvert_exporter": "python",
   "pygments_lexer": "ipython3",
   "version": "3.8.5"
  },
  "toc": {
   "base_numbering": 1,
   "nav_menu": {},
   "number_sections": true,
   "sideBar": true,
   "skip_h1_title": false,
   "title_cell": "Table of Contents",
   "title_sidebar": "Contents",
   "toc_cell": false,
   "toc_position": {
    "height": "calc(100% - 180px)",
    "left": "10px",
    "top": "150px",
    "width": "168px"
   },
   "toc_section_display": true,
   "toc_window_display": true
  }
 },
 "nbformat": 4,
 "nbformat_minor": 2
}
