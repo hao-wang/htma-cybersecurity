{
 "cells": [
  {
   "cell_type": "markdown",
   "metadata": {},
   "source": [
    "## Dimensional modeling"
   ]
  },
  {
   "cell_type": "markdown",
   "metadata": {},
   "source": [
    "Dimensional modelling is a way of structuring your data. Using dimensional models, you will have a \"fact\" table and multiple \"dimensional\" tables. The fact table contains long rows as facts, each of which is consist of multiple columns, the column value being some ID that acts as the primary key of a dimensional table. The below is an example of a dimensional model:\n",
    "\n",
    "User buying record *fact* table:\n",
    "\n",
    "| date_id | user_id | item_id |\n",
    "| :- | -: | -: |\n",
    "| 20201120 | 100 | 10 |\n",
    "| 20201121 | 300 | 21 |\n",
    "\n",
    "Date *dimension* table:\n",
    "\n",
    "| date_id | date |\n",
    "| --- | --- |\n",
    "| 20201120 | \"2020/11/20\" |\n",
    "| 20201121 | \"2020/11/21\" |\n",
    "\n",
    "User *dimension* table:\n",
    "\n",
    "|user_id | name | gender | age |\n",
    "| --- | --- | --- | --- |\n",
    "|100 | \"john doe\" | M | 30 |\n",
    "|300 | \"mia lew\" | F | 20 |\n",
    "\n",
    "Item *dimension* table:\n",
    "\n",
    "| item_id | item | price |\n",
    "| --- | --- | --- |\n",
    "| 10 | \"wireless fan\" | 30 |\n",
    "| 21 | \"tea\" | 0.1 |"
   ]
  },
  {
   "cell_type": "code",
   "execution_count": null,
   "metadata": {},
   "outputs": [],
   "source": []
  }
 ],
 "metadata": {
  "kernelspec": {
   "display_name": "Python 3",
   "language": "python",
   "name": "python3"
  },
  "language_info": {
   "codemirror_mode": {
    "name": "ipython",
    "version": 3
   },
   "file_extension": ".py",
   "mimetype": "text/x-python",
   "name": "python",
   "nbconvert_exporter": "python",
   "pygments_lexer": "ipython3",
   "version": "3.8.0"
  },
  "toc": {
   "base_numbering": 1,
   "nav_menu": {},
   "number_sections": true,
   "sideBar": true,
   "skip_h1_title": false,
   "title_cell": "Table of Contents",
   "title_sidebar": "Contents",
   "toc_cell": false,
   "toc_position": {},
   "toc_section_display": true,
   "toc_window_display": false
  }
 },
 "nbformat": 4,
 "nbformat_minor": 4
}
